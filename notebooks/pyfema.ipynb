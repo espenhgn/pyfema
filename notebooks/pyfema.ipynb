{
 "cells": [
  {
   "cell_type": "markdown",
   "metadata": {},
   "source": [
    "# FEMA\n",
    "Test implementation of FEMA (Fast and efficient mixed-effects algorithm) in Python"
   ]
  },
  {
   "cell_type": "code",
   "execution_count": null,
   "metadata": {},
   "outputs": [],
   "source": [
    "import numpy as np\n",
    "import matplotlib.pyplot as plt\n",
    "import scipy.sparse as sp\n",
    "import scipy.stats as st\n",
    "import scipy.optimize as opt\n"
   ]
  },
  {
   "cell_type": "markdown",
   "metadata": {},
   "source": []
  },
  {
   "cell_type": "code",
   "execution_count": null,
   "metadata": {},
   "outputs": [],
   "source": [
    "np.random.seed(1234)"
   ]
  },
  {
   "cell_type": "markdown",
   "metadata": {},
   "source": [
    "## Create dataset\n",
    "Forward calculations of data"
   ]
  },
  {
   "cell_type": "code",
   "execution_count": null,
   "metadata": {},
   "outputs": [],
   "source": [
    "J = 500  # sample size / number of measures\n",
    "N = 100  # number of observations\n"
   ]
  },
  {
   "cell_type": "code",
   "execution_count": null,
   "metadata": {},
   "outputs": [],
   "source": [
    "\n",
    "# distributions from which random variates are drawn.\n",
    "dist_beta = st.uniform(loc=-0.02, scale=0.04)  # fixed effects\n",
    "dist_F = st.uniform(loc=0.2, scale=0.6)  # family\n",
    "dist_S = st.uniform(loc=0.2, scale=0.6)  # subject\n",
    "dist_E = st.norm(loc=0, scale=np.sqrt(1 - dist_F.var() - dist_S.var()))  # independent errors, assuming var_jF + var_jS + var_jE = 1;\n",
    "\n",
    "dist_X = st.norm(loc=0, scale=1)\n",
    "dist_mu = st.norm(loc=0, scale=1)"
   ]
  },
  {
   "cell_type": "code",
   "execution_count": null,
   "metadata": {},
   "outputs": [],
   "source": [
    "# variances\n",
    "var_F, var_S, var_E = dist_F.rvs(J), dist_S.rvs(J), dist_E.rvs(J)"
   ]
  },
  {
   "cell_type": "code",
   "execution_count": null,
   "metadata": {},
   "outputs": [],
   "source": [
    "# compute V:\n",
    "P = 0.1\n",
    "# familiarity and subject random intercept matrices\n",
    "Z_F = np.random.binomial(1, P, size=J * N).reshape((J, N))\n",
    "Z_S = np.random.binomial(1, P, size=J * N).reshape((J, N))\n",
    "\n",
    "V = var_F @ Z_F @ Z_F.T + var_S @ Z_F @ Z_F.T + var_E @ np.eye(J)\n",
    "V = V.reshape((-1, 1))\n",
    "V.shape"
   ]
  },
  {
   "cell_type": "code",
   "execution_count": null,
   "metadata": {},
   "outputs": [],
   "source": [
    "# Construct data\n",
    "X = dist_X.rvs(N * J).reshape((J, N))\n",
    "beta = dist_beta.rvs(N).reshape((-1, 1))\n",
    "mu = dist_mu.rvs(J).reshape((-1, 1)) * V\n",
    "Y = X @ beta + mu"
   ]
  },
  {
   "cell_type": "code",
   "execution_count": null,
   "metadata": {},
   "outputs": [],
   "source": [
    "X.shape, beta.shape, mu.shape, Y.shape, V.shape"
   ]
  },
  {
   "cell_type": "code",
   "execution_count": null,
   "metadata": {},
   "outputs": [],
   "source": [
    "# plot Y\n",
    "plt.plot(Y)"
   ]
  },
  {
   "cell_type": "markdown",
   "metadata": {},
   "source": [
    "# FEMA\n",
    "implement algorithm as described in Fan et al. 2021"
   ]
  },
  {
   "cell_type": "code",
   "execution_count": null,
   "metadata": {},
   "outputs": [],
   "source": [
    "\n",
    "\n",
    "# Y = np.random.randn(J).reshape((J, 1))\n",
    "# Y_hat = np.random.randn(J).reshape((J, 1))\n",
    "\n",
    "# compute residual vector\n",
    "B_hat = np.linalg.inv(X.T @ X) @ X.T @ Y\n",
    "Y_hat_res = Y - X @ B_hat"
   ]
  },
  {
   "cell_type": "code",
   "execution_count": null,
   "metadata": {},
   "outputs": [],
   "source": [
    "V_inv = np.linalg.inv(V)\n",
    "var_beta_hat = np.linalg.inv(X.T @ V_inv @ X)\n",
    "beta_hat = var_beta_hat @ X.T @ V_inv @ Y"
   ]
  },
  {
   "cell_type": "code",
   "execution_count": null,
   "metadata": {},
   "outputs": [],
   "source": [
    "# Expectation of product of residuals Y_res\n",
    "E_res = var_F @ (Z_F @ Z_F.T) + var_S @ (Z_F @ Z_F.T) + var_E"
   ]
  },
  {
   "cell_type": "code",
   "execution_count": null,
   "metadata": {},
   "outputs": [],
   "source": [
    "import pandas as pd\n",
    "import statsmodels.api as sm\n",
    "import numpy as np\n",
    "\n",
    "# Simulate data for illustration\n",
    "group_size = 5\n",
    "n_groups = 100\n",
    "x1 = np.random.normal(size=group_size*n_groups)\n",
    "x2 = np.random.normal(size=group_size*n_groups)\n",
    "u = np.kron(np.random.normal(size=n_groups), np.ones(group_size))\n",
    "g = np.kron(np.arange(n_groups), np.ones(group_size))\n",
    "e = np.random.normal(size=group_size*n_groups)\n",
    "y = x1 - x2 + u + e"
   ]
  },
  {
   "cell_type": "code",
   "execution_count": null,
   "metadata": {},
   "outputs": [],
   "source": [
    "plt.plot(u)\n",
    "plt.plot(g)"
   ]
  },
  {
   "cell_type": "code",
   "execution_count": null,
   "metadata": {},
   "outputs": [],
   "source": [
    "\n",
    "# Fit a multilevel model\n",
    "df = pd.DataFrame({\"y\":y, \"x1\":x1, \"x2\":x2, \"g\":g})\n",
    "model = sm.MixedLM.from_formula(\"y ~ x1 + x2\", groups=\"g\", data=df)\n",
    "result = model.fit()\n",
    "\n",
    "# The BLUPs\n",
    "re = result.random_effects\n",
    "\n",
    "# Multiply each BLUP by the random effects design matrix for one group\n",
    "rex = [np.dot(model.exog_re_li[j], re[k]) for (j, k) in enumerate(model.group_labels)]\n",
    "\n",
    "# Add the fixed and random terms to get the overall prediction\n",
    "rex = np.concatenate(rex)\n",
    "yp = result.fittedvalues + rex"
   ]
  },
  {
   "cell_type": "code",
   "execution_count": null,
   "metadata": {},
   "outputs": [],
   "source": [
    "plt.figure(figsize=(10, 8))\n",
    "plt.plot(rex)\n",
    "plt.plot(x1 + x2)"
   ]
  },
  {
   "cell_type": "code",
   "execution_count": null,
   "metadata": {},
   "outputs": [],
   "source": [
    "plt.figure(figsize=(16, 9))\n",
    "plt.plot(y, label='y')\n",
    "plt.plot(result.fittedvalues, label='y-fit')\n",
    "plt.plot(yp, label='y-pred')"
   ]
  },
  {
   "cell_type": "code",
   "execution_count": null,
   "metadata": {},
   "outputs": [],
   "source": []
  }
 ],
 "metadata": {
  "kernelspec": {
   "display_name": "Python 3.10.5 ('metal')",
   "language": "python",
   "name": "python3"
  },
  "language_info": {
   "codemirror_mode": {
    "name": "ipython",
    "version": 3
   },
   "file_extension": ".py",
   "mimetype": "text/x-python",
   "name": "python",
   "nbconvert_exporter": "python",
   "pygments_lexer": "ipython3",
   "version": "3.10.5"
  },
  "orig_nbformat": 4,
  "vscode": {
   "interpreter": {
    "hash": "e308bf0ba21982950350b1f729412a9a6a77aace979e5fbc19b574a4e97d9576"
   }
  }
 },
 "nbformat": 4,
 "nbformat_minor": 2
}
